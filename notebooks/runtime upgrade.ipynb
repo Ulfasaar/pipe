{
 "cells": [
  {
   "cell_type": "code",
   "execution_count": 75,
   "metadata": {},
   "outputs": [],
   "source": [
    "# stores the results of all the steps up to maxsize anything over maxsize overwrites oldest data\n",
    "\n",
    "# setting to 0 disables it\n",
    "\n",
    "class Result_Cache:\n",
    "    def __init__(self, max_size):\n",
    "        self.max_size = max_size\n",
    "        self.size = 0\n",
    "        self.results = []\n",
    "        self.to_replace = 0\n",
    "\n",
    "    def append(self, result):\n",
    "        \n",
    "        if(self.max_size != 0):\n",
    "            if(self.size < self.max_size):\n",
    "                \n",
    "                self.results.append(result)\n",
    "                self.size = self.size + 1\n",
    "               \n",
    "            else:\n",
    "                self.results[self.to_replace] = result\n",
    "                self.to_replace = ( self.max_size - ( self.to_replace + 1 )) % self.max_size\n",
    "            "
   ]
  },
  {
   "cell_type": "code",
   "execution_count": 81,
   "metadata": {},
   "outputs": [],
   "source": [
    "def check_external(step):\n",
    "    return step.__name__ == \"is_external\" and step.__module__ == \"pipe\""
   ]
  },
  {
   "cell_type": "code",
   "execution_count": 84,
   "metadata": {},
   "outputs": [
    {
     "data": {
      "text/plain": [
       "[5, 4]"
      ]
     },
     "execution_count": 84,
     "metadata": {},
     "output_type": "execute_result"
    }
   ],
   "source": [
    "cache = Result_Cache(2)\n",
    "cache.append(1)\n",
    "cache.append(2)\n",
    "cache.append(3)\n",
    "cache.append(4)\n",
    "cache.append(5)\n",
    "# cache.append(6)\n",
    "# cache.append(7)\n",
    "# cache.append(8)\n",
    "# cache.append(9)\n",
    "# cache.append(10)\n",
    "cache.results"
   ]
  },
  {
   "cell_type": "code",
   "execution_count": null,
   "metadata": {},
   "outputs": [],
   "source": [
    "# if the step is external rerun it and compare its value to the value in the cache\n",
    "\n",
    "# how do I know if its value is in the cache if we jump forward?\n",
    "\n",
    "# maxsize cannot be smaller than the length of the pipe otherwise there is no benefit because there would be no data\n",
    "# to compare against \n",
    "\n",
    "# how would we compare non hashable values such as dask pointers?\n",
    "\n",
    "# this would also cause a memory explosion if all the steps manipulate the same multi gigabyte data due to its\n",
    "# compounding nature\n",
    "\n",
    "# solution: only store the last result, and any result that comes just before a external step"
   ]
  },
  {
   "cell_type": "code",
   "execution_count": 48,
   "metadata": {},
   "outputs": [],
   "source": [
    "step_queue = []\n",
    "\n",
    "# serves as a marker for caching system\n",
    "# during run check to see for any steps with the __name__ is_external from module pipe mark index\n",
    "def external(step):\n",
    "    def is_external(data):\n",
    "        return step(data)\n",
    "    return is_external"
   ]
  },
  {
   "cell_type": "code",
   "execution_count": 45,
   "metadata": {},
   "outputs": [],
   "source": [
    "import inspect\n",
    "from sys import version_info\n",
    "\n",
    "def resolve_get_args():\n",
    "    if(version_info[0] == 2):\n",
    "        return inspect.getargspec\n",
    "    else:\n",
    "        return inspect.getfullargspec\n",
    "\n",
    "\n",
    "class Pipe:\n",
    "    \n",
    "    def __init__(self, *steps, **kwargs):\n",
    "        self.name = kwargs.get(\"name\", None)\n",
    "        \n",
    "        steps = list(steps)\n",
    "        \n",
    "#         steps = fix_pipe_arg(*steps)\n",
    "\n",
    "        if callable(steps[0]):\n",
    "            self.steps = steps\n",
    "            self.start_value = None\n",
    "        else:\n",
    "            self.start_value = steps[0]\n",
    "            self.steps = steps[1:]\n",
    "            \n",
    "    def append(self, *steps):\n",
    "        self.steps += steps\n",
    "        \n",
    "    def insert(self, index, step):\n",
    "        self.steps = self.steps.insert(index, step)\n",
    "        \n",
    "    def replace(self, index, step):\n",
    "        self.steps[index] = step\n",
    "\n",
    "    def open(self, data=None):\n",
    "        \n",
    "        def get_result(step, data):\n",
    "            args = get_args(step).args\n",
    "            num_args = len(args)\n",
    "            \n",
    "            if num_args == 1 or (num_args == 2 and args[0] == \"self\"):\n",
    "                return step(data)\n",
    "                \n",
    "            elif num_args > 1:\n",
    "                return step(*data)\n",
    "            \n",
    "            return step()\n",
    "        \n",
    "        prev_result = None\n",
    "        get_args = resolve_get_args()\n",
    "\n",
    "        if self.start_value != None:\n",
    "            if(data == None):\n",
    "                data = self.start_value\n",
    "            else:\n",
    "                print(\"WARNING! you put a raw value at the top of your pipe and you put \" + str(data) + \" in the opening of the pipe the value at the start of the pipe has been overwritten by the passed in value. You may want to get rid of that value at the top of the pipe to get rid of this message\\n\")\n",
    "            \n",
    "    \n",
    "        if data != None:\n",
    "            \n",
    "            prev_result = get_result(self.steps[0], data)\n",
    "        \n",
    "        else:\n",
    "            prev_result = self.steps[0]()\n",
    "     \n",
    "        for step in self.steps[1:]:\n",
    "            prev_result = get_result(step, prev_result)\n",
    "\n",
    "        # the use is multithreading so add the result to the pool of data\n",
    "        if(self.name != None):\n",
    "            global pool\n",
    "            pool.update({self.name: prev_result})\n",
    "\n",
    "        return prev_result\n",
    "        "
   ]
  },
  {
   "cell_type": "code",
   "execution_count": 46,
   "metadata": {},
   "outputs": [],
   "source": [
    "def blah():\n",
    "    return \"hi\"\n",
    "\n",
    "testee = Pipe(blah)\n",
    "\n",
    "test = Pipe(testee.open)"
   ]
  },
  {
   "cell_type": "code",
   "execution_count": 47,
   "metadata": {
    "hideOutput": true
   },
   "outputs": [],
   "source": [
    "test.open(\"hi\")"
   ]
  },
  {
   "cell_type": "code",
   "execution_count": null,
   "metadata": {},
   "outputs": [],
   "source": []
  }
 ],
 "metadata": {
  "kernelspec": {
   "display_name": "Python 2",
   "language": "python",
   "name": "python2"
  },
  "language_info": {
   "codemirror_mode": {
    "name": "ipython",
    "version": 2
   },
   "file_extension": ".py",
   "mimetype": "text/x-python",
   "name": "python",
   "nbconvert_exporter": "python",
   "pygments_lexer": "ipython2",
   "version": "2.7.13"
  }
 },
 "nbformat": 4,
 "nbformat_minor": 2
}
