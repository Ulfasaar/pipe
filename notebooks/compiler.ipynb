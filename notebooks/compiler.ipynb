{
 "cells": [
  {
   "cell_type": "code",
   "execution_count": 1,
   "metadata": {},
   "outputs": [],
   "source": [
    "from pipe import *"
   ]
  },
  {
   "cell_type": "code",
   "execution_count": 2,
   "metadata": {},
   "outputs": [],
   "source": [
    "sample = None\n",
    "\n",
    "with open(\"compiler.[]\", 'r') as raw:\n",
    "    sample = raw.read()"
   ]
  },
  {
   "cell_type": "code",
   "execution_count": 3,
   "metadata": {},
   "outputs": [
    {
     "name": "stdout",
     "output_type": "stream",
     "text": [
      "split_lines raw_text\n",
      "    \n",
      "    lines = raw_text.split('\\n')\n",
      "    \n",
      "    while '' in lines: lines.remove('')\n",
      "    return lines\n",
      "\n",
      "group_defs lines\n",
      "\n",
      "    # somehow group the lines together to resemble definitions\n",
      "    # look for return statement?\n",
      "    chunks = []\n",
      "    \n",
      "    chunk = []\n",
      "    \n",
      "    print(lines)\n",
      "    for line in lines:\n",
      "        chunk.append(line)\n",
      "        \n",
      "        if ('return' in line):\n",
      "            chunks.append(chunk)\n",
      "            chunk = []\n",
      "    return chunks\n",
      "\n",
      "compile_defs chunks\n",
      "    \n",
      "    for i, lines in enumerate(chunks):\n",
      "    \n",
      "        # change arguments so that they are comma seperated\n",
      "        tokens = lines[0].split(' ')\n",
      "\n",
      "        name = tokens[0]\n",
      "        args = ','.join(tokens[1:])\n",
      "\n",
      "        lines[0] = \"def \" + name + \"(\" + args + \"):\"\n",
      "        \n",
      "        chunks[i] = lines\n",
      "    return chunks\n",
      "\n",
      "join_lines chunks\n",
      "    \n",
      "    result = []\n",
      "    for lines in chunks:\n",
      "        result.append('\\n'.join(lines))\n",
      "    return '\\n'.join(result)\n"
     ]
    }
   ],
   "source": [
    "print(sample)"
   ]
  },
  {
   "cell_type": "code",
   "execution_count": 25,
   "metadata": {},
   "outputs": [],
   "source": [
    "def split_lines(raw_text):\n",
    "    \n",
    "    lines = raw_text.split('\\n')\n",
    "    \n",
    "    while '' in lines: lines.remove('')\n",
    "    return lines\n",
    "\n",
    "def group_defs(lines):\n",
    "    # somehow group the lines together to resemble definitions\n",
    "    # look for return statement?\n",
    "    chunks = []\n",
    "    \n",
    "    chunk = []\n",
    "    \n",
    "    for line in lines:\n",
    "        chunk.append(line)\n",
    "        \n",
    "        if ('return' in line) and '#' not in line and \"'return'\" not in line:\n",
    "            chunks.append(chunk)\n",
    "            chunk = []\n",
    "            \n",
    "#     print(chunks)\n",
    "    return chunks\n",
    "            \n",
    "def compile_defs(chunks):\n",
    "    \n",
    "    for i, lines in enumerate(chunks):\n",
    "    \n",
    "        # change arguments so that they are comma seperated\n",
    "        tokens = lines[0].split(' ')\n",
    "\n",
    "        name = tokens[0]\n",
    "        args = ','.join(tokens[1:])\n",
    "\n",
    "        lines[0] = \"def \" + name + \"(\" + args + \"):\"\n",
    "        \n",
    "        chunks[i] = lines\n",
    "    return chunks\n",
    "\n",
    "def join_lines(chunks):\n",
    "    \n",
    "    result = []\n",
    "    \n",
    "    for lines in chunks:\n",
    "        lines.append('\\n')\n",
    "    \n",
    "    for lines in chunks:\n",
    "        result.append('\\n'.join(lines))\n",
    "    return '\\n'.join(result)\n",
    "\n",
    "# change this so that it reduces conflicts something like import pipe as __pipe__\n",
    "def import_pipe(result):\n",
    "    return \"import pipe as __pipe__\\n\\n\" + result"
   ]
  },
  {
   "cell_type": "markdown",
   "metadata": {},
   "source": [
    "Write awesome syntax highlighter here that outputs the colors for the python code to make it more legible"
   ]
  },
  {
   "cell_type": "code",
   "execution_count": 6,
   "metadata": {},
   "outputs": [],
   "source": [
    "from IPython.display import Markdown, display\n",
    "\n",
    "def pretty_print(text):\n",
    "    display(Markdown(\"```python\\n\" + text + \"\\n```\"))"
   ]
  },
  {
   "cell_type": "code",
   "execution_count": 26,
   "metadata": {},
   "outputs": [
    {
     "data": {
      "text/markdown": [
       "**Generated code:**"
      ],
      "text/plain": [
       "<IPython.core.display.Markdown object>"
      ]
     },
     "metadata": {},
     "output_type": "display_data"
    },
    {
     "data": {
      "text/markdown": [
       "```python\n",
       "import pipe as __pipe__\n",
       "\n",
       "def split_lines(raw_text):\n",
       "    \n",
       "    lines = raw_text.split('\\n')\n",
       "    \n",
       "    while '' in lines: lines.remove('')\n",
       "    return lines\n",
       "\n",
       "\n",
       "def group_defs(lines):\n",
       "    # somehow group the lines together to resemble definitions\n",
       "    # look for return statement?\n",
       "    chunks = []\n",
       "    \n",
       "    chunk = []\n",
       "    \n",
       "    print(lines)\n",
       "    for line in lines:\n",
       "        chunk.append(line)\n",
       "        \n",
       "        if ('return' in line):\n",
       "            chunks.append(chunk)\n",
       "            chunk = []\n",
       "    return chunks\n",
       "\n",
       "\n",
       "def compile_defs(chunks):\n",
       "    \n",
       "    for i, lines in enumerate(chunks):\n",
       "    \n",
       "        # change arguments so that they are comma seperated\n",
       "        tokens = lines[0].split(' ')\n",
       "        name = tokens[0]\n",
       "        args = ','.join(tokens[1:])\n",
       "        lines[0] = \"def \" + name + \"(\" + args + \"):\"\n",
       "        \n",
       "        chunks[i] = lines\n",
       "    return chunks\n",
       "\n",
       "\n",
       "def join_lines(chunks):\n",
       "    \n",
       "    result = []\n",
       "    for lines in chunks:\n",
       "        result.append('\\n'.join(lines))\n",
       "    return '\\n'.join(result)\n",
       "\n",
       "\n",
       "```"
      ],
      "text/plain": [
       "<IPython.core.display.Markdown object>"
      ]
     },
     "metadata": {},
     "output_type": "display_data"
    }
   ],
   "source": [
    "compiler = Pipe(\n",
    "    split_lines,\n",
    "    group_defs,\n",
    "    compile_defs,\n",
    "    join_lines,\n",
    "    import_pipe\n",
    ")\n",
    "\n",
    "# code = join_lines(compile_defs(split_lines(sample)))\n",
    "\n",
    "code = compiler.open(sample)\n",
    "display(Markdown('**Generated code:**'))\n",
    "pretty_print(code)"
   ]
  },
  {
   "cell_type": "code",
   "execution_count": null,
   "metadata": {},
   "outputs": [],
   "source": []
  },
  {
   "cell_type": "markdown",
   "metadata": {},
   "source": [
    "Have to bootstrap the above somehow to support other languages"
   ]
  },
  {
   "cell_type": "code",
   "execution_count": 105,
   "metadata": {},
   "outputs": [
    {
     "name": "stdout",
     "output_type": "stream",
     "text": [
      "def split_lines(raw_text):\n",
      "\n",
      "    return raw_text.split('\\n')\n",
      "def ():\n",
      "compile_defs lines\n",
      "\n",
      "    # change arguments so that they are comma seperated\n",
      "    tokens = lines[0].split(' ')\n",
      "    \n",
      "    name = tokens[0]\n",
      "    args = ','.join(tokens[1:])\n",
      "  \n",
      "    lines[0] = \"def \" + name + \"(\" + args + \"):\"\n",
      "    return lines\n",
      "def ():\n",
      "join_lines lines\n",
      "\n",
      "    return '\\n'.join(lines)\n"
     ]
    }
   ],
   "source": []
  },
  {
   "cell_type": "markdown",
   "metadata": {},
   "source": [
    "basic interpreter for now neat idea allows for testing code in notebook"
   ]
  },
  {
   "cell_type": "code",
   "execution_count": 66,
   "metadata": {},
   "outputs": [],
   "source": [
    "exec compile(code, \"<string>\", \"exec\")"
   ]
  },
  {
   "cell_type": "code",
   "execution_count": 67,
   "metadata": {},
   "outputs": [
    {
     "name": "stdout",
     "output_type": "stream",
     "text": [
      "this is awesome\n"
     ]
    }
   ],
   "source": [
    "hi(\"blah\", \"bleh\")"
   ]
  },
  {
   "cell_type": "markdown",
   "metadata": {},
   "source": [
    "Better to write it to file"
   ]
  },
  {
   "cell_type": "code",
   "execution_count": 70,
   "metadata": {},
   "outputs": [],
   "source": [
    "with open('sample.py', \"w+\") as dest:\n",
    "    dest.write(code)"
   ]
  },
  {
   "cell_type": "code",
   "execution_count": null,
   "metadata": {},
   "outputs": [],
   "source": []
  }
 ],
 "metadata": {
  "kernelspec": {
   "display_name": "Python 2",
   "language": "python",
   "name": "python2"
  },
  "language_info": {
   "codemirror_mode": {
    "name": "ipython",
    "version": 2
   },
   "file_extension": ".py",
   "mimetype": "text/x-python",
   "name": "python",
   "nbconvert_exporter": "python",
   "pygments_lexer": "ipython2",
   "version": "2.7.13"
  }
 },
 "nbformat": 4,
 "nbformat_minor": 2
}
