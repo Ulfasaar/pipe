{
 "cells": [
  {
   "cell_type": "code",
   "execution_count": 138,
   "metadata": {},
   "outputs": [],
   "source": [
    "from pipe import *"
   ]
  },
  {
   "cell_type": "code",
   "execution_count": 218,
   "metadata": {},
   "outputs": [],
   "source": [
    "sample = None\n",
    "\n",
    "with open(\"compiler.[]\", 'r') as raw:\n",
    "    sample = raw.read()"
   ]
  },
  {
   "cell_type": "code",
   "execution_count": 180,
   "metadata": {},
   "outputs": [],
   "source": [
    "# print(sample)"
   ]
  },
  {
   "cell_type": "code",
   "execution_count": 226,
   "metadata": {},
   "outputs": [],
   "source": [
    "import re"
   ]
  },
  {
   "cell_type": "code",
   "execution_count": 230,
   "metadata": {},
   "outputs": [],
   "source": [
    "def split_lines(raw_text):\n",
    "    \n",
    "    lines = raw_text.split('\\n')\n",
    "#     print(\"raw lines\\n\")\n",
    "#     print(lines)\n",
    "    # optimise to remove all at once using stream or somthing else\n",
    "    while '' in lines: lines.remove('')\n",
    "        \n",
    "    # removes whitespace lines of any length\n",
    "    \n",
    "    result = []\n",
    "    for line in lines:\n",
    "        if(re.match(r\"^ +$\", line)):\n",
    "            continue\n",
    "        else:\n",
    "            result.append(line)\n",
    "    \n",
    "    lines = result\n",
    "#     while  in lines: lines.remove(r\"^ +$\")\n",
    "        \n",
    "        \n",
    "#     while ' ' in lines: lines.remove(' ') \n",
    "    while '\\t' in lines: lines.remove('\\t')\n",
    "#     print('\\nwithout blank tokens\\n')\n",
    "#     print(lines)\n",
    "    return lines\n",
    "\n",
    "def group_defs(lines):\n",
    "    # somehow group the lines together to resemble definitions\n",
    "    # look for return statement?\n",
    "    chunks = []\n",
    "    \n",
    "    chunk = []\n",
    "    \n",
    "#     print(\"\\ngrouping\\n\")\n",
    "#     print(lines)\n",
    "    \n",
    "    for line in lines:\n",
    "        chunk.append(line)\n",
    "    \n",
    "#         return marks the end of chunk for now, later it will just be end of tabbing\n",
    "# how to handle special pipe lines>\n",
    "        if ('return' in line) and '#' not in line and \"'return'\" not in line:\n",
    "            chunks.append(chunk)\n",
    "            chunk = []\n",
    "            \n",
    "    # scan from the bottom up to construct pipe\n",
    "    lines.reverse()\n",
    "    \n",
    "    pipe_chunk = []\n",
    "    \n",
    "    for line in lines:\n",
    "        if('return' in line):\n",
    "            break\n",
    "        else:\n",
    "            pipe_chunk.append(line)\n",
    "        \n",
    "    return chunks, pipe_chunk\n",
    "            \n",
    "def compile_defs(chunks, pipe_chunk):\n",
    "    \n",
    "    for i, lines in enumerate(chunks):\n",
    "    \n",
    "        # change arguments so that they are comma seperated\n",
    "        tokens = lines[0].split(' ')\n",
    "\n",
    "        name = tokens[0]\n",
    "        args = ','.join(tokens[1:])\n",
    "\n",
    "        lines[0] = \"def \" + name + \"(\" + args + \"):\"\n",
    "        \n",
    "        chunks[i] = lines\n",
    "    return chunks, pipe_chunk\n",
    "\n",
    "def compile_pipe(chunks, pipe_chunk):\n",
    "    result = []\n",
    "    \n",
    "    for line in pipe_chunk:\n",
    "        result.append(line + ',')\n",
    "        \n",
    "    # need to find a way to insert this at this step instead of passing it through\n",
    "    # assume if it is not given that it is the file name\n",
    "    name = \"compiler\"\n",
    "        \n",
    "    result.insert(0, name + ' = __pipe__.Pipe(')\n",
    "    result.append(')')\n",
    "    chunks.append(result)\n",
    "    return chunks\n",
    "    \n",
    "\n",
    "def join_lines(chunks):\n",
    "    \n",
    "    result = []\n",
    "    \n",
    "    for lines in chunks:\n",
    "        lines.append('\\n')\n",
    "    \n",
    "    for lines in chunks:\n",
    "        result.append('\\n'.join(lines))\n",
    "    return '\\n'.join(result)\n",
    "\n",
    "def import_pipe(result):\n",
    "    return \"import pipe as __pipe__\\n\\n\" + result"
   ]
  },
  {
   "cell_type": "markdown",
   "metadata": {},
   "source": [
    "Write awesome syntax highlighter here that outputs the colors for the python code to make it more legible"
   ]
  },
  {
   "cell_type": "code",
   "execution_count": 146,
   "metadata": {},
   "outputs": [],
   "source": [
    "from IPython.display import Markdown, display\n",
    "\n",
    "def pretty_print(text):\n",
    "    display(Markdown(\"```python\\n\" + text + \"\\n```\"))"
   ]
  },
  {
   "cell_type": "code",
   "execution_count": 231,
   "metadata": {},
   "outputs": [
    {
     "name": "stdout",
     "output_type": "stream",
     "text": [
      "['group_defs lines', '    # somehow group the lines together to resemble definitions', '    # look for return statement?', '    chunks = []', '    chunk = []', '#     print(\"\\\\ngrouping\\\\n\")', '#     print(lines)', '    for line in lines:', '        chunk.append(line)', '#         return marks the end of chunk for now, later it will just be end of tabbing', '# how to handle special pipe lines>', '        if (\\'return\\' in line) and \\'#\\' not in line and \"\\'return\\'\" not in line:', '            chunks.append(chunk)', '            chunk = []', '    # scan from the bottom up to construct pipe', '    lines.reverse()', '    pipe_chunk = []', '    for line in lines:', \"        if('return' in line):\", '            break', '        else:', '            pipe_chunk.append(line)', '    return chunks, pipe_chunk']\n"
     ]
    }
   ],
   "source": [
    "compiler = Pipe(\n",
    "    split_lines,\n",
    "    group_defs,\n",
    "    compile_defs,\n",
    "    compile_pipe,\n",
    "    join_lines,\n",
    "    import_pipe\n",
    ")\n",
    "\n",
    "# code = join_lines(compile_defs(split_lines(sample)))\n",
    "\n",
    "code = compiler.open(sample)"
   ]
  },
  {
   "cell_type": "code",
   "execution_count": 232,
   "metadata": {
    "scrolled": true
   },
   "outputs": [
    {
     "data": {
      "text/markdown": [
       "**Generated code:**"
      ],
      "text/plain": [
       "<IPython.core.display.Markdown object>"
      ]
     },
     "metadata": {},
     "output_type": "display_data"
    },
    {
     "data": {
      "text/markdown": [
       "```python\n",
       "import pipe as __pipe__\n",
       "\n",
       "def split_lines(raw_text):\n",
       "    lines = raw_text.split('\\n')\n",
       "#     print(\"raw lines\\n\")\n",
       "#     print(lines)\n",
       "    while '' in lines: lines.remove('')\n",
       "    return lines\n",
       "\n",
       "\n",
       "def group_defs(lines):\n",
       "    # somehow group the lines together to resemble definitions\n",
       "    # look for return statement?\n",
       "    chunks = []\n",
       "    chunk = []\n",
       "#     print(\"\\ngrouping\\n\")\n",
       "#     print(lines)\n",
       "    for line in lines:\n",
       "        chunk.append(line)\n",
       "#         return marks the end of chunk for now, later it will just be end of tabbing\n",
       "# how to handle special pipe lines>\n",
       "        if ('return' in line) and '#' not in line and \"'return'\" not in line:\n",
       "            chunks.append(chunk)\n",
       "            chunk = []\n",
       "    # scan from the bottom up to construct pipe\n",
       "    lines.reverse()\n",
       "    pipe_chunk = []\n",
       "    for line in lines:\n",
       "        if('return' in line):\n",
       "            break\n",
       "        else:\n",
       "            pipe_chunk.append(line)\n",
       "    return chunks, pipe_chunk\n",
       "\n",
       "\n",
       "def compile_defs(chunks,pipe_chunk):\n",
       "    for i, lines in enumerate(chunks):\n",
       "        # change arguments so that they are comma seperated\n",
       "        tokens = lines[0].split(' ')\n",
       "        name = tokens[0]\n",
       "        args = ','.join(tokens[1:])\n",
       "        lines[0] = \"def \" + name + \"(\" + args + \"):\"\n",
       "        chunks[i] = lines\n",
       "    return chunks, pipe_chunk\n",
       "\n",
       "\n",
       "def compile_pipe(chunks,pipe_chunk):\n",
       "    result = []\n",
       "    for line in pipe_chunk:\n",
       "        result.append(line + ',')\n",
       "    # need to find a way to insert this at this step instead of passing it through\n",
       "    # assume if it is not given that it is the file name\n",
       "    name = \"compiler\"\n",
       "    result.insert(0, name + ' = __pipe__.Pipe(')\n",
       "    result.append(')')\n",
       "    chunks.append(result)\n",
       "    return chunks\n",
       "\n",
       "\n",
       "def join_lines(chunks):\n",
       "    result = []\n",
       "    for lines in chunks:\n",
       "        lines.append('\\n')\n",
       "    for lines in chunks:\n",
       "        result.append('\\n'.join(lines))\n",
       "    return '\\n'.join(result)\n",
       "\n",
       "\n",
       "def import_pipe(result):\n",
       "    return \"import pipe as __pipe__\\n\\n\" + result\n",
       "\n",
       "\n",
       "compiler = __pipe__.Pipe(\n",
       "import_pipe,\n",
       "join_lines,\n",
       "compile_pipe,\n",
       "compile_defs,\n",
       "group_defs,\n",
       "split_lines,\n",
       ")\n",
       "\n",
       "\n",
       "```"
      ],
      "text/plain": [
       "<IPython.core.display.Markdown object>"
      ]
     },
     "metadata": {},
     "output_type": "display_data"
    }
   ],
   "source": [
    "display(Markdown('**Generated code:**'))\n",
    "pretty_print(code)"
   ]
  },
  {
   "cell_type": "code",
   "execution_count": null,
   "metadata": {},
   "outputs": [],
   "source": []
  },
  {
   "cell_type": "markdown",
   "metadata": {},
   "source": [
    "Have to bootstrap the above somehow to support other languages"
   ]
  },
  {
   "cell_type": "markdown",
   "metadata": {},
   "source": [
    "basic interpreter for now neat idea allows for testing code in notebook"
   ]
  },
  {
   "cell_type": "code",
   "execution_count": 66,
   "metadata": {},
   "outputs": [],
   "source": [
    "exec compile(code, \"<string>\", \"exec\")"
   ]
  },
  {
   "cell_type": "code",
   "execution_count": 67,
   "metadata": {},
   "outputs": [
    {
     "name": "stdout",
     "output_type": "stream",
     "text": [
      "this is awesome\n"
     ]
    }
   ],
   "source": [
    "hi(\"blah\", \"bleh\")"
   ]
  },
  {
   "cell_type": "markdown",
   "metadata": {},
   "source": [
    "Better to write it to file"
   ]
  },
  {
   "cell_type": "code",
   "execution_count": 70,
   "metadata": {},
   "outputs": [],
   "source": [
    "with open('sample.py', \"w+\") as dest:\n",
    "    dest.write(code)"
   ]
  },
  {
   "cell_type": "code",
   "execution_count": null,
   "metadata": {},
   "outputs": [],
   "source": []
  }
 ],
 "metadata": {
  "kernelspec": {
   "display_name": "Python 2",
   "language": "python",
   "name": "python2"
  },
  "language_info": {
   "codemirror_mode": {
    "name": "ipython",
    "version": 2
   },
   "file_extension": ".py",
   "mimetype": "text/x-python",
   "name": "python",
   "nbconvert_exporter": "python",
   "pygments_lexer": "ipython2",
   "version": "2.7.13"
  }
 },
 "nbformat": 4,
 "nbformat_minor": 2
}
